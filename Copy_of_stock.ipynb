{
  "nbformat": 4,
  "nbformat_minor": 0,
  "metadata": {
    "colab": {
      "provenance": []
    },
    "kernelspec": {
      "name": "python3",
      "display_name": "Python 3"
    },
    "language_info": {
      "name": "python"
    }
  },
  "cells": [
    {
      "cell_type": "code",
      "source": [
        "pip install tensorflow-gpu"
      ],
      "metadata": {
        "colab": {
          "base_uri": "https://localhost:8080/"
        },
        "id": "aKggavYIBwMz",
        "outputId": "b649680d-60fa-4f66-becd-53dfa5bf022d"
      },
      "execution_count": null,
      "outputs": [
        {
          "output_type": "stream",
          "name": "stdout",
          "text": [
            "Collecting tensorflow-gpu\n",
            "  Downloading tensorflow-gpu-2.12.0.tar.gz (2.6 kB)\n",
            "  \u001b[1;31merror\u001b[0m: \u001b[1msubprocess-exited-with-error\u001b[0m\n",
            "  \n",
            "  \u001b[31m×\u001b[0m \u001b[32mpython setup.py egg_info\u001b[0m did not run successfully.\n",
            "  \u001b[31m│\u001b[0m exit code: \u001b[1;36m1\u001b[0m\n",
            "  \u001b[31m╰─>\u001b[0m See above for output.\n",
            "  \n",
            "  \u001b[1;35mnote\u001b[0m: This error originates from a subprocess, and is likely not a problem with pip.\n",
            "  Preparing metadata (setup.py) ... \u001b[?25l\u001b[?25herror\n",
            "\u001b[1;31merror\u001b[0m: \u001b[1mmetadata-generation-failed\u001b[0m\n",
            "\n",
            "\u001b[31m×\u001b[0m Encountered error while generating package metadata.\n",
            "\u001b[31m╰─>\u001b[0m See above for output.\n",
            "\n",
            "\u001b[1;35mnote\u001b[0m: This is an issue with the package mentioned above, not pip.\n",
            "\u001b[1;36mhint\u001b[0m: See above for details.\n"
          ]
        }
      ]
    },
    {
      "cell_type": "code",
      "execution_count": null,
      "metadata": {
        "id": "RKIB5KAV9pwX"
      },
      "outputs": [],
      "source": [
        "import tensorflow as tf\n"
      ]
    },
    {
      "cell_type": "code",
      "source": [
        "print(tf.__version__)"
      ],
      "metadata": {
        "colab": {
          "base_uri": "https://localhost:8080/"
        },
        "id": "Jnc6nbj9_IeY",
        "outputId": "8b83b0e6-d70d-4a2c-bc7f-0b282e4ffaa9"
      },
      "execution_count": null,
      "outputs": [
        {
          "output_type": "stream",
          "name": "stdout",
          "text": [
            "2.15.0\n"
          ]
        }
      ]
    },
    {
      "cell_type": "code",
      "source": [
        "import numpy as np"
      ],
      "metadata": {
        "id": "sJ8kQaluBukp"
      },
      "execution_count": null,
      "outputs": []
    },
    {
      "cell_type": "code",
      "source": [
        "import pandas as pd"
      ],
      "metadata": {
        "id": "K2sGn0znC9hR"
      },
      "execution_count": null,
      "outputs": []
    },
    {
      "cell_type": "code",
      "source": [
        "import matplotlib.pyplot as plt\n"
      ],
      "metadata": {
        "id": "2cyUgV4VDA3g"
      },
      "execution_count": null,
      "outputs": []
    },
    {
      "cell_type": "code",
      "source": [
        "training_data=pd.read_csv('/content/training_set.csv')"
      ],
      "metadata": {
        "id": "5BV7YnCWFLNJ"
      },
      "execution_count": null,
      "outputs": []
    },
    {
      "cell_type": "code",
      "source": [
        "training_data.head()"
      ],
      "metadata": {
        "colab": {
          "base_uri": "https://localhost:8080/",
          "height": 206
        },
        "id": "vDgSfP02JpeV",
        "outputId": "f3ab9888-e500-410c-d305-bf18ca030076"
      },
      "execution_count": null,
      "outputs": [
        {
          "output_type": "execute_result",
          "data": {
            "text/plain": [
              "         Date       Open       High        Low      Close  Adj Close    Volume\n",
              "0  03-01-2023  89.830002  91.550003  89.019997  89.699997  89.699997  20738500\n",
              "1  04-01-2023  91.010002  91.239998  87.800003  88.709999  88.709999  27046500\n",
              "2  05-01-2023  88.070000  88.209999  86.559998  86.769997  86.769997  23136100\n",
              "3  06-01-2023  87.360001  88.470001  85.570000  88.160004  88.160004  26612600\n",
              "4  09-01-2023  89.195000  90.830002  88.580002  88.800003  88.800003  22996700"
            ],
            "text/html": [
              "\n",
              "  <div id=\"df-e5f6a383-2e0d-458c-b4b2-4ffd59a727d7\" class=\"colab-df-container\">\n",
              "    <div>\n",
              "<style scoped>\n",
              "    .dataframe tbody tr th:only-of-type {\n",
              "        vertical-align: middle;\n",
              "    }\n",
              "\n",
              "    .dataframe tbody tr th {\n",
              "        vertical-align: top;\n",
              "    }\n",
              "\n",
              "    .dataframe thead th {\n",
              "        text-align: right;\n",
              "    }\n",
              "</style>\n",
              "<table border=\"1\" class=\"dataframe\">\n",
              "  <thead>\n",
              "    <tr style=\"text-align: right;\">\n",
              "      <th></th>\n",
              "      <th>Date</th>\n",
              "      <th>Open</th>\n",
              "      <th>High</th>\n",
              "      <th>Low</th>\n",
              "      <th>Close</th>\n",
              "      <th>Adj Close</th>\n",
              "      <th>Volume</th>\n",
              "    </tr>\n",
              "  </thead>\n",
              "  <tbody>\n",
              "    <tr>\n",
              "      <th>0</th>\n",
              "      <td>03-01-2023</td>\n",
              "      <td>89.830002</td>\n",
              "      <td>91.550003</td>\n",
              "      <td>89.019997</td>\n",
              "      <td>89.699997</td>\n",
              "      <td>89.699997</td>\n",
              "      <td>20738500</td>\n",
              "    </tr>\n",
              "    <tr>\n",
              "      <th>1</th>\n",
              "      <td>04-01-2023</td>\n",
              "      <td>91.010002</td>\n",
              "      <td>91.239998</td>\n",
              "      <td>87.800003</td>\n",
              "      <td>88.709999</td>\n",
              "      <td>88.709999</td>\n",
              "      <td>27046500</td>\n",
              "    </tr>\n",
              "    <tr>\n",
              "      <th>2</th>\n",
              "      <td>05-01-2023</td>\n",
              "      <td>88.070000</td>\n",
              "      <td>88.209999</td>\n",
              "      <td>86.559998</td>\n",
              "      <td>86.769997</td>\n",
              "      <td>86.769997</td>\n",
              "      <td>23136100</td>\n",
              "    </tr>\n",
              "    <tr>\n",
              "      <th>3</th>\n",
              "      <td>06-01-2023</td>\n",
              "      <td>87.360001</td>\n",
              "      <td>88.470001</td>\n",
              "      <td>85.570000</td>\n",
              "      <td>88.160004</td>\n",
              "      <td>88.160004</td>\n",
              "      <td>26612600</td>\n",
              "    </tr>\n",
              "    <tr>\n",
              "      <th>4</th>\n",
              "      <td>09-01-2023</td>\n",
              "      <td>89.195000</td>\n",
              "      <td>90.830002</td>\n",
              "      <td>88.580002</td>\n",
              "      <td>88.800003</td>\n",
              "      <td>88.800003</td>\n",
              "      <td>22996700</td>\n",
              "    </tr>\n",
              "  </tbody>\n",
              "</table>\n",
              "</div>\n",
              "    <div class=\"colab-df-buttons\">\n",
              "\n",
              "  <div class=\"colab-df-container\">\n",
              "    <button class=\"colab-df-convert\" onclick=\"convertToInteractive('df-e5f6a383-2e0d-458c-b4b2-4ffd59a727d7')\"\n",
              "            title=\"Convert this dataframe to an interactive table.\"\n",
              "            style=\"display:none;\">\n",
              "\n",
              "  <svg xmlns=\"http://www.w3.org/2000/svg\" height=\"24px\" viewBox=\"0 -960 960 960\">\n",
              "    <path d=\"M120-120v-720h720v720H120Zm60-500h600v-160H180v160Zm220 220h160v-160H400v160Zm0 220h160v-160H400v160ZM180-400h160v-160H180v160Zm440 0h160v-160H620v160ZM180-180h160v-160H180v160Zm440 0h160v-160H620v160Z\"/>\n",
              "  </svg>\n",
              "    </button>\n",
              "\n",
              "  <style>\n",
              "    .colab-df-container {\n",
              "      display:flex;\n",
              "      gap: 12px;\n",
              "    }\n",
              "\n",
              "    .colab-df-convert {\n",
              "      background-color: #E8F0FE;\n",
              "      border: none;\n",
              "      border-radius: 50%;\n",
              "      cursor: pointer;\n",
              "      display: none;\n",
              "      fill: #1967D2;\n",
              "      height: 32px;\n",
              "      padding: 0 0 0 0;\n",
              "      width: 32px;\n",
              "    }\n",
              "\n",
              "    .colab-df-convert:hover {\n",
              "      background-color: #E2EBFA;\n",
              "      box-shadow: 0px 1px 2px rgba(60, 64, 67, 0.3), 0px 1px 3px 1px rgba(60, 64, 67, 0.15);\n",
              "      fill: #174EA6;\n",
              "    }\n",
              "\n",
              "    .colab-df-buttons div {\n",
              "      margin-bottom: 4px;\n",
              "    }\n",
              "\n",
              "    [theme=dark] .colab-df-convert {\n",
              "      background-color: #3B4455;\n",
              "      fill: #D2E3FC;\n",
              "    }\n",
              "\n",
              "    [theme=dark] .colab-df-convert:hover {\n",
              "      background-color: #434B5C;\n",
              "      box-shadow: 0px 1px 3px 1px rgba(0, 0, 0, 0.15);\n",
              "      filter: drop-shadow(0px 1px 2px rgba(0, 0, 0, 0.3));\n",
              "      fill: #FFFFFF;\n",
              "    }\n",
              "  </style>\n",
              "\n",
              "    <script>\n",
              "      const buttonEl =\n",
              "        document.querySelector('#df-e5f6a383-2e0d-458c-b4b2-4ffd59a727d7 button.colab-df-convert');\n",
              "      buttonEl.style.display =\n",
              "        google.colab.kernel.accessAllowed ? 'block' : 'none';\n",
              "\n",
              "      async function convertToInteractive(key) {\n",
              "        const element = document.querySelector('#df-e5f6a383-2e0d-458c-b4b2-4ffd59a727d7');\n",
              "        const dataTable =\n",
              "          await google.colab.kernel.invokeFunction('convertToInteractive',\n",
              "                                                    [key], {});\n",
              "        if (!dataTable) return;\n",
              "\n",
              "        const docLinkHtml = 'Like what you see? Visit the ' +\n",
              "          '<a target=\"_blank\" href=https://colab.research.google.com/notebooks/data_table.ipynb>data table notebook</a>'\n",
              "          + ' to learn more about interactive tables.';\n",
              "        element.innerHTML = '';\n",
              "        dataTable['output_type'] = 'display_data';\n",
              "        await google.colab.output.renderOutput(dataTable, element);\n",
              "        const docLink = document.createElement('div');\n",
              "        docLink.innerHTML = docLinkHtml;\n",
              "        element.appendChild(docLink);\n",
              "      }\n",
              "    </script>\n",
              "  </div>\n",
              "\n",
              "\n",
              "<div id=\"df-bdd2a617-2de9-4feb-9281-a02633fb55c9\">\n",
              "  <button class=\"colab-df-quickchart\" onclick=\"quickchart('df-bdd2a617-2de9-4feb-9281-a02633fb55c9')\"\n",
              "            title=\"Suggest charts\"\n",
              "            style=\"display:none;\">\n",
              "\n",
              "<svg xmlns=\"http://www.w3.org/2000/svg\" height=\"24px\"viewBox=\"0 0 24 24\"\n",
              "     width=\"24px\">\n",
              "    <g>\n",
              "        <path d=\"M19 3H5c-1.1 0-2 .9-2 2v14c0 1.1.9 2 2 2h14c1.1 0 2-.9 2-2V5c0-1.1-.9-2-2-2zM9 17H7v-7h2v7zm4 0h-2V7h2v10zm4 0h-2v-4h2v4z\"/>\n",
              "    </g>\n",
              "</svg>\n",
              "  </button>\n",
              "\n",
              "<style>\n",
              "  .colab-df-quickchart {\n",
              "      --bg-color: #E8F0FE;\n",
              "      --fill-color: #1967D2;\n",
              "      --hover-bg-color: #E2EBFA;\n",
              "      --hover-fill-color: #174EA6;\n",
              "      --disabled-fill-color: #AAA;\n",
              "      --disabled-bg-color: #DDD;\n",
              "  }\n",
              "\n",
              "  [theme=dark] .colab-df-quickchart {\n",
              "      --bg-color: #3B4455;\n",
              "      --fill-color: #D2E3FC;\n",
              "      --hover-bg-color: #434B5C;\n",
              "      --hover-fill-color: #FFFFFF;\n",
              "      --disabled-bg-color: #3B4455;\n",
              "      --disabled-fill-color: #666;\n",
              "  }\n",
              "\n",
              "  .colab-df-quickchart {\n",
              "    background-color: var(--bg-color);\n",
              "    border: none;\n",
              "    border-radius: 50%;\n",
              "    cursor: pointer;\n",
              "    display: none;\n",
              "    fill: var(--fill-color);\n",
              "    height: 32px;\n",
              "    padding: 0;\n",
              "    width: 32px;\n",
              "  }\n",
              "\n",
              "  .colab-df-quickchart:hover {\n",
              "    background-color: var(--hover-bg-color);\n",
              "    box-shadow: 0 1px 2px rgba(60, 64, 67, 0.3), 0 1px 3px 1px rgba(60, 64, 67, 0.15);\n",
              "    fill: var(--button-hover-fill-color);\n",
              "  }\n",
              "\n",
              "  .colab-df-quickchart-complete:disabled,\n",
              "  .colab-df-quickchart-complete:disabled:hover {\n",
              "    background-color: var(--disabled-bg-color);\n",
              "    fill: var(--disabled-fill-color);\n",
              "    box-shadow: none;\n",
              "  }\n",
              "\n",
              "  .colab-df-spinner {\n",
              "    border: 2px solid var(--fill-color);\n",
              "    border-color: transparent;\n",
              "    border-bottom-color: var(--fill-color);\n",
              "    animation:\n",
              "      spin 1s steps(1) infinite;\n",
              "  }\n",
              "\n",
              "  @keyframes spin {\n",
              "    0% {\n",
              "      border-color: transparent;\n",
              "      border-bottom-color: var(--fill-color);\n",
              "      border-left-color: var(--fill-color);\n",
              "    }\n",
              "    20% {\n",
              "      border-color: transparent;\n",
              "      border-left-color: var(--fill-color);\n",
              "      border-top-color: var(--fill-color);\n",
              "    }\n",
              "    30% {\n",
              "      border-color: transparent;\n",
              "      border-left-color: var(--fill-color);\n",
              "      border-top-color: var(--fill-color);\n",
              "      border-right-color: var(--fill-color);\n",
              "    }\n",
              "    40% {\n",
              "      border-color: transparent;\n",
              "      border-right-color: var(--fill-color);\n",
              "      border-top-color: var(--fill-color);\n",
              "    }\n",
              "    60% {\n",
              "      border-color: transparent;\n",
              "      border-right-color: var(--fill-color);\n",
              "    }\n",
              "    80% {\n",
              "      border-color: transparent;\n",
              "      border-right-color: var(--fill-color);\n",
              "      border-bottom-color: var(--fill-color);\n",
              "    }\n",
              "    90% {\n",
              "      border-color: transparent;\n",
              "      border-bottom-color: var(--fill-color);\n",
              "    }\n",
              "  }\n",
              "</style>\n",
              "\n",
              "  <script>\n",
              "    async function quickchart(key) {\n",
              "      const quickchartButtonEl =\n",
              "        document.querySelector('#' + key + ' button');\n",
              "      quickchartButtonEl.disabled = true;  // To prevent multiple clicks.\n",
              "      quickchartButtonEl.classList.add('colab-df-spinner');\n",
              "      try {\n",
              "        const charts = await google.colab.kernel.invokeFunction(\n",
              "            'suggestCharts', [key], {});\n",
              "      } catch (error) {\n",
              "        console.error('Error during call to suggestCharts:', error);\n",
              "      }\n",
              "      quickchartButtonEl.classList.remove('colab-df-spinner');\n",
              "      quickchartButtonEl.classList.add('colab-df-quickchart-complete');\n",
              "    }\n",
              "    (() => {\n",
              "      let quickchartButtonEl =\n",
              "        document.querySelector('#df-bdd2a617-2de9-4feb-9281-a02633fb55c9 button');\n",
              "      quickchartButtonEl.style.display =\n",
              "        google.colab.kernel.accessAllowed ? 'block' : 'none';\n",
              "    })();\n",
              "  </script>\n",
              "</div>\n",
              "\n",
              "    </div>\n",
              "  </div>\n"
            ]
          },
          "metadata": {},
          "execution_count": 13
        }
      ]
    },
    {
      "cell_type": "code",
      "source": [
        "training_data.tail()"
      ],
      "metadata": {
        "colab": {
          "base_uri": "https://localhost:8080/",
          "height": 206
        },
        "id": "-Z693xtXJxk3",
        "outputId": "8d43099d-3bb0-4e07-a73c-cdade8264181"
      },
      "execution_count": null,
      "outputs": [
        {
          "output_type": "execute_result",
          "data": {
            "text/plain": [
              "           Date        Open        High         Low       Close   Adj Close  \\\n",
              "245  22-12-2023  142.130005  143.250000  142.054993  142.720001  142.720001   \n",
              "246  26-12-2023  142.979996  143.945007  142.500000  142.820007  142.820007   \n",
              "247  27-12-2023  142.830002  143.320007  141.050995  141.440002  141.440002   \n",
              "248  28-12-2023  141.850006  142.270004  140.828003  141.279999  141.279999   \n",
              "249  29-12-2023  140.679993  141.434998  139.899994  140.929993  140.929993   \n",
              "\n",
              "       Volume  \n",
              "245  18494700  \n",
              "246  11170100  \n",
              "247  17288400  \n",
              "248  12192500  \n",
              "249  14872700  "
            ],
            "text/html": [
              "\n",
              "  <div id=\"df-a03c8d4a-6c1b-4e50-ac32-42e479641172\" class=\"colab-df-container\">\n",
              "    <div>\n",
              "<style scoped>\n",
              "    .dataframe tbody tr th:only-of-type {\n",
              "        vertical-align: middle;\n",
              "    }\n",
              "\n",
              "    .dataframe tbody tr th {\n",
              "        vertical-align: top;\n",
              "    }\n",
              "\n",
              "    .dataframe thead th {\n",
              "        text-align: right;\n",
              "    }\n",
              "</style>\n",
              "<table border=\"1\" class=\"dataframe\">\n",
              "  <thead>\n",
              "    <tr style=\"text-align: right;\">\n",
              "      <th></th>\n",
              "      <th>Date</th>\n",
              "      <th>Open</th>\n",
              "      <th>High</th>\n",
              "      <th>Low</th>\n",
              "      <th>Close</th>\n",
              "      <th>Adj Close</th>\n",
              "      <th>Volume</th>\n",
              "    </tr>\n",
              "  </thead>\n",
              "  <tbody>\n",
              "    <tr>\n",
              "      <th>245</th>\n",
              "      <td>22-12-2023</td>\n",
              "      <td>142.130005</td>\n",
              "      <td>143.250000</td>\n",
              "      <td>142.054993</td>\n",
              "      <td>142.720001</td>\n",
              "      <td>142.720001</td>\n",
              "      <td>18494700</td>\n",
              "    </tr>\n",
              "    <tr>\n",
              "      <th>246</th>\n",
              "      <td>26-12-2023</td>\n",
              "      <td>142.979996</td>\n",
              "      <td>143.945007</td>\n",
              "      <td>142.500000</td>\n",
              "      <td>142.820007</td>\n",
              "      <td>142.820007</td>\n",
              "      <td>11170100</td>\n",
              "    </tr>\n",
              "    <tr>\n",
              "      <th>247</th>\n",
              "      <td>27-12-2023</td>\n",
              "      <td>142.830002</td>\n",
              "      <td>143.320007</td>\n",
              "      <td>141.050995</td>\n",
              "      <td>141.440002</td>\n",
              "      <td>141.440002</td>\n",
              "      <td>17288400</td>\n",
              "    </tr>\n",
              "    <tr>\n",
              "      <th>248</th>\n",
              "      <td>28-12-2023</td>\n",
              "      <td>141.850006</td>\n",
              "      <td>142.270004</td>\n",
              "      <td>140.828003</td>\n",
              "      <td>141.279999</td>\n",
              "      <td>141.279999</td>\n",
              "      <td>12192500</td>\n",
              "    </tr>\n",
              "    <tr>\n",
              "      <th>249</th>\n",
              "      <td>29-12-2023</td>\n",
              "      <td>140.679993</td>\n",
              "      <td>141.434998</td>\n",
              "      <td>139.899994</td>\n",
              "      <td>140.929993</td>\n",
              "      <td>140.929993</td>\n",
              "      <td>14872700</td>\n",
              "    </tr>\n",
              "  </tbody>\n",
              "</table>\n",
              "</div>\n",
              "    <div class=\"colab-df-buttons\">\n",
              "\n",
              "  <div class=\"colab-df-container\">\n",
              "    <button class=\"colab-df-convert\" onclick=\"convertToInteractive('df-a03c8d4a-6c1b-4e50-ac32-42e479641172')\"\n",
              "            title=\"Convert this dataframe to an interactive table.\"\n",
              "            style=\"display:none;\">\n",
              "\n",
              "  <svg xmlns=\"http://www.w3.org/2000/svg\" height=\"24px\" viewBox=\"0 -960 960 960\">\n",
              "    <path d=\"M120-120v-720h720v720H120Zm60-500h600v-160H180v160Zm220 220h160v-160H400v160Zm0 220h160v-160H400v160ZM180-400h160v-160H180v160Zm440 0h160v-160H620v160ZM180-180h160v-160H180v160Zm440 0h160v-160H620v160Z\"/>\n",
              "  </svg>\n",
              "    </button>\n",
              "\n",
              "  <style>\n",
              "    .colab-df-container {\n",
              "      display:flex;\n",
              "      gap: 12px;\n",
              "    }\n",
              "\n",
              "    .colab-df-convert {\n",
              "      background-color: #E8F0FE;\n",
              "      border: none;\n",
              "      border-radius: 50%;\n",
              "      cursor: pointer;\n",
              "      display: none;\n",
              "      fill: #1967D2;\n",
              "      height: 32px;\n",
              "      padding: 0 0 0 0;\n",
              "      width: 32px;\n",
              "    }\n",
              "\n",
              "    .colab-df-convert:hover {\n",
              "      background-color: #E2EBFA;\n",
              "      box-shadow: 0px 1px 2px rgba(60, 64, 67, 0.3), 0px 1px 3px 1px rgba(60, 64, 67, 0.15);\n",
              "      fill: #174EA6;\n",
              "    }\n",
              "\n",
              "    .colab-df-buttons div {\n",
              "      margin-bottom: 4px;\n",
              "    }\n",
              "\n",
              "    [theme=dark] .colab-df-convert {\n",
              "      background-color: #3B4455;\n",
              "      fill: #D2E3FC;\n",
              "    }\n",
              "\n",
              "    [theme=dark] .colab-df-convert:hover {\n",
              "      background-color: #434B5C;\n",
              "      box-shadow: 0px 1px 3px 1px rgba(0, 0, 0, 0.15);\n",
              "      filter: drop-shadow(0px 1px 2px rgba(0, 0, 0, 0.3));\n",
              "      fill: #FFFFFF;\n",
              "    }\n",
              "  </style>\n",
              "\n",
              "    <script>\n",
              "      const buttonEl =\n",
              "        document.querySelector('#df-a03c8d4a-6c1b-4e50-ac32-42e479641172 button.colab-df-convert');\n",
              "      buttonEl.style.display =\n",
              "        google.colab.kernel.accessAllowed ? 'block' : 'none';\n",
              "\n",
              "      async function convertToInteractive(key) {\n",
              "        const element = document.querySelector('#df-a03c8d4a-6c1b-4e50-ac32-42e479641172');\n",
              "        const dataTable =\n",
              "          await google.colab.kernel.invokeFunction('convertToInteractive',\n",
              "                                                    [key], {});\n",
              "        if (!dataTable) return;\n",
              "\n",
              "        const docLinkHtml = 'Like what you see? Visit the ' +\n",
              "          '<a target=\"_blank\" href=https://colab.research.google.com/notebooks/data_table.ipynb>data table notebook</a>'\n",
              "          + ' to learn more about interactive tables.';\n",
              "        element.innerHTML = '';\n",
              "        dataTable['output_type'] = 'display_data';\n",
              "        await google.colab.output.renderOutput(dataTable, element);\n",
              "        const docLink = document.createElement('div');\n",
              "        docLink.innerHTML = docLinkHtml;\n",
              "        element.appendChild(docLink);\n",
              "      }\n",
              "    </script>\n",
              "  </div>\n",
              "\n",
              "\n",
              "<div id=\"df-d96e54e1-3be7-4932-a2c5-b528e53f9de3\">\n",
              "  <button class=\"colab-df-quickchart\" onclick=\"quickchart('df-d96e54e1-3be7-4932-a2c5-b528e53f9de3')\"\n",
              "            title=\"Suggest charts\"\n",
              "            style=\"display:none;\">\n",
              "\n",
              "<svg xmlns=\"http://www.w3.org/2000/svg\" height=\"24px\"viewBox=\"0 0 24 24\"\n",
              "     width=\"24px\">\n",
              "    <g>\n",
              "        <path d=\"M19 3H5c-1.1 0-2 .9-2 2v14c0 1.1.9 2 2 2h14c1.1 0 2-.9 2-2V5c0-1.1-.9-2-2-2zM9 17H7v-7h2v7zm4 0h-2V7h2v10zm4 0h-2v-4h2v4z\"/>\n",
              "    </g>\n",
              "</svg>\n",
              "  </button>\n",
              "\n",
              "<style>\n",
              "  .colab-df-quickchart {\n",
              "      --bg-color: #E8F0FE;\n",
              "      --fill-color: #1967D2;\n",
              "      --hover-bg-color: #E2EBFA;\n",
              "      --hover-fill-color: #174EA6;\n",
              "      --disabled-fill-color: #AAA;\n",
              "      --disabled-bg-color: #DDD;\n",
              "  }\n",
              "\n",
              "  [theme=dark] .colab-df-quickchart {\n",
              "      --bg-color: #3B4455;\n",
              "      --fill-color: #D2E3FC;\n",
              "      --hover-bg-color: #434B5C;\n",
              "      --hover-fill-color: #FFFFFF;\n",
              "      --disabled-bg-color: #3B4455;\n",
              "      --disabled-fill-color: #666;\n",
              "  }\n",
              "\n",
              "  .colab-df-quickchart {\n",
              "    background-color: var(--bg-color);\n",
              "    border: none;\n",
              "    border-radius: 50%;\n",
              "    cursor: pointer;\n",
              "    display: none;\n",
              "    fill: var(--fill-color);\n",
              "    height: 32px;\n",
              "    padding: 0;\n",
              "    width: 32px;\n",
              "  }\n",
              "\n",
              "  .colab-df-quickchart:hover {\n",
              "    background-color: var(--hover-bg-color);\n",
              "    box-shadow: 0 1px 2px rgba(60, 64, 67, 0.3), 0 1px 3px 1px rgba(60, 64, 67, 0.15);\n",
              "    fill: var(--button-hover-fill-color);\n",
              "  }\n",
              "\n",
              "  .colab-df-quickchart-complete:disabled,\n",
              "  .colab-df-quickchart-complete:disabled:hover {\n",
              "    background-color: var(--disabled-bg-color);\n",
              "    fill: var(--disabled-fill-color);\n",
              "    box-shadow: none;\n",
              "  }\n",
              "\n",
              "  .colab-df-spinner {\n",
              "    border: 2px solid var(--fill-color);\n",
              "    border-color: transparent;\n",
              "    border-bottom-color: var(--fill-color);\n",
              "    animation:\n",
              "      spin 1s steps(1) infinite;\n",
              "  }\n",
              "\n",
              "  @keyframes spin {\n",
              "    0% {\n",
              "      border-color: transparent;\n",
              "      border-bottom-color: var(--fill-color);\n",
              "      border-left-color: var(--fill-color);\n",
              "    }\n",
              "    20% {\n",
              "      border-color: transparent;\n",
              "      border-left-color: var(--fill-color);\n",
              "      border-top-color: var(--fill-color);\n",
              "    }\n",
              "    30% {\n",
              "      border-color: transparent;\n",
              "      border-left-color: var(--fill-color);\n",
              "      border-top-color: var(--fill-color);\n",
              "      border-right-color: var(--fill-color);\n",
              "    }\n",
              "    40% {\n",
              "      border-color: transparent;\n",
              "      border-right-color: var(--fill-color);\n",
              "      border-top-color: var(--fill-color);\n",
              "    }\n",
              "    60% {\n",
              "      border-color: transparent;\n",
              "      border-right-color: var(--fill-color);\n",
              "    }\n",
              "    80% {\n",
              "      border-color: transparent;\n",
              "      border-right-color: var(--fill-color);\n",
              "      border-bottom-color: var(--fill-color);\n",
              "    }\n",
              "    90% {\n",
              "      border-color: transparent;\n",
              "      border-bottom-color: var(--fill-color);\n",
              "    }\n",
              "  }\n",
              "</style>\n",
              "\n",
              "  <script>\n",
              "    async function quickchart(key) {\n",
              "      const quickchartButtonEl =\n",
              "        document.querySelector('#' + key + ' button');\n",
              "      quickchartButtonEl.disabled = true;  // To prevent multiple clicks.\n",
              "      quickchartButtonEl.classList.add('colab-df-spinner');\n",
              "      try {\n",
              "        const charts = await google.colab.kernel.invokeFunction(\n",
              "            'suggestCharts', [key], {});\n",
              "      } catch (error) {\n",
              "        console.error('Error during call to suggestCharts:', error);\n",
              "      }\n",
              "      quickchartButtonEl.classList.remove('colab-df-spinner');\n",
              "      quickchartButtonEl.classList.add('colab-df-quickchart-complete');\n",
              "    }\n",
              "    (() => {\n",
              "      let quickchartButtonEl =\n",
              "        document.querySelector('#df-d96e54e1-3be7-4932-a2c5-b528e53f9de3 button');\n",
              "      quickchartButtonEl.style.display =\n",
              "        google.colab.kernel.accessAllowed ? 'block' : 'none';\n",
              "    })();\n",
              "  </script>\n",
              "</div>\n",
              "\n",
              "    </div>\n",
              "  </div>\n"
            ]
          },
          "metadata": {},
          "execution_count": 14
        }
      ]
    },
    {
      "cell_type": "code",
      "source": [
        "training_data.info()"
      ],
      "metadata": {
        "colab": {
          "base_uri": "https://localhost:8080/"
        },
        "id": "43E_eHbfJ3Bd",
        "outputId": "a2802a89-2367-4dc9-b3f5-19ef32702a97"
      },
      "execution_count": null,
      "outputs": [
        {
          "output_type": "stream",
          "name": "stdout",
          "text": [
            "<class 'pandas.core.frame.DataFrame'>\n",
            "RangeIndex: 250 entries, 0 to 249\n",
            "Data columns (total 7 columns):\n",
            " #   Column     Non-Null Count  Dtype  \n",
            "---  ------     --------------  -----  \n",
            " 0   Date       250 non-null    object \n",
            " 1   Open       250 non-null    float64\n",
            " 2   High       250 non-null    float64\n",
            " 3   Low        250 non-null    float64\n",
            " 4   Close      250 non-null    float64\n",
            " 5   Adj Close  250 non-null    float64\n",
            " 6   Volume     250 non-null    int64  \n",
            "dtypes: float64(5), int64(1), object(1)\n",
            "memory usage: 13.8+ KB\n"
          ]
        }
      ]
    },
    {
      "cell_type": "code",
      "source": [
        "training_set=training_data.iloc[:,1:2].values"
      ],
      "metadata": {
        "id": "okf1y-r4J9zy"
      },
      "execution_count": null,
      "outputs": []
    },
    {
      "cell_type": "code",
      "source": [
        "training_set.shape, training_data.shape"
      ],
      "metadata": {
        "colab": {
          "base_uri": "https://localhost:8080/"
        },
        "id": "s13ISC35KldS",
        "outputId": "5601b305-c8cf-4934-c031-513621ff4d1e"
      },
      "execution_count": null,
      "outputs": [
        {
          "output_type": "execute_result",
          "data": {
            "text/plain": [
              "((250, 1), (250, 7))"
            ]
          },
          "metadata": {},
          "execution_count": 17
        }
      ]
    },
    {
      "cell_type": "code",
      "source": [
        "from sklearn.preprocessing import MinMaxScaler\n",
        "sc=MinMaxScaler(feature_range=(0,1))\n",
        "training_set_scaled=sc.fit_transform(training_set)"
      ],
      "metadata": {
        "id": "GfEudckbLIpp"
      },
      "execution_count": null,
      "outputs": []
    },
    {
      "cell_type": "code",
      "source": [
        "training_set_scaled"
      ],
      "metadata": {
        "colab": {
          "base_uri": "https://localhost:8080/"
        },
        "id": "Jx0o7U7vL5d1",
        "outputId": "a276b41d-a0ca-43fa-fa13-d28874a0aa55"
      },
      "execution_count": null,
      "outputs": [
        {
          "output_type": "execute_result",
          "data": {
            "text/plain": [
              "array([[0.05527908],\n",
              "       [0.07625314],\n",
              "       [0.02399572],\n",
              "       [0.01137576],\n",
              "       [0.04399217],\n",
              "       [0.        ],\n",
              "       [0.05936718],\n",
              "       [0.10095986],\n",
              "       [0.08546035],\n",
              "       [0.10771416],\n",
              "       [0.11055815],\n",
              "       [0.08300744],\n",
              "       [0.16405967],\n",
              "       [0.22058296],\n",
              "       [0.2280484 ],\n",
              "       [0.18627794],\n",
              "       [0.20547457],\n",
              "       [0.21916109],\n",
              "       [0.21373983],\n",
              "       [0.19800926],\n",
              "       [0.23142549],\n",
              "       [0.35673661],\n",
              "       [0.29843588],\n",
              "       [0.28377175],\n",
              "       [0.30056874],\n",
              "       [0.28386069],\n",
              "       [0.24564524],\n",
              "       [0.16032701],\n",
              "       [0.14735161],\n",
              "       [0.14113053],\n",
              "       [0.14255239],\n",
              "       [0.15677214],\n",
              "       [0.14841805],\n",
              "       [0.11589047],\n",
              "       [0.09267681],\n",
              "       [0.09616062],\n",
              "       [0.05172407],\n",
              "       [0.05990038],\n",
              "       [0.05012443],\n",
              "       [0.06114474],\n",
              "       [0.0558123 ],\n",
              "       [0.10700316],\n",
              "       [0.13579809],\n",
              "       [0.15463914],\n",
              "       [0.13659791],\n",
              "       [0.13810874],\n",
              "       [0.10273728],\n",
              "       [0.06834343],\n",
              "       [0.11286882],\n",
              "       [0.1212229 ],\n",
              "       [0.17507998],\n",
              "       [0.25097754],\n",
              "       [0.25488799],\n",
              "       [0.27124073],\n",
              "       [0.32740845],\n",
              "       [0.34073942],\n",
              "       [0.33807321],\n",
              "       [0.3306079 ],\n",
              "       [0.28937079],\n",
              "       [0.28439391],\n",
              "       [0.26164242],\n",
              "       [0.26644151],\n",
              "       [0.28350513],\n",
              "       [0.32207602],\n",
              "       [0.34482765],\n",
              "       [0.33860643],\n",
              "       [0.36740135],\n",
              "       [0.35904726],\n",
              "       [0.36740135],\n",
              "       [0.35104873],\n",
              "       [0.37273379],\n",
              "       [0.33256311],\n",
              "       [0.36046926],\n",
              "       [0.31096688],\n",
              "       [0.31869894],\n",
              "       [0.34429429],\n",
              "       [0.34358343],\n",
              "       [0.35353718],\n",
              "       [0.33487378],\n",
              "       [0.32900824],\n",
              "       [0.37468901],\n",
              "       [0.37326701],\n",
              "       [0.37220058],\n",
              "       [0.34660508],\n",
              "       [0.34553865],\n",
              "       [0.3306079 ],\n",
              "       [0.33905081],\n",
              "       [0.39210807],\n",
              "       [0.38801998],\n",
              "       [0.51795241],\n",
              "       [0.53821546],\n",
              "       [0.52915037],\n",
              "       [0.53519381],\n",
              "       [0.59473875],\n",
              "       [0.61926769],\n",
              "       [0.66619266],\n",
              "       [0.65392827],\n",
              "       [0.67916819],\n",
              "       [0.62495555],\n",
              "       [0.68414507],\n",
              "       [0.66379318],\n",
              "       [0.70334169],\n",
              "       [0.65730536],\n",
              "       [0.65375048],\n",
              "       [0.67134732],\n",
              "       [0.67348033],\n",
              "       [0.70885177],\n",
              "       [0.72618201],\n",
              "       [0.63748669],\n",
              "       [0.63704231],\n",
              "       [0.6518841 ],\n",
              "       [0.69196595],\n",
              "       [0.65908292],\n",
              "       [0.66050479],\n",
              "       [0.71062921],\n",
              "       [0.65437267],\n",
              "       [0.64904023],\n",
              "       [0.60327064],\n",
              "       [0.62779956],\n",
              "       [0.61759696],\n",
              "       [0.55314607],\n",
              "       [0.55527908],\n",
              "       [0.59313896],\n",
              "       [0.61109136],\n",
              "       [0.59722719],\n",
              "       [0.59260576],\n",
              "       [0.60291506],\n",
              "       [0.60735871],\n",
              "       [0.57500892],\n",
              "       [0.53394959],\n",
              "       [0.57909714],\n",
              "       [0.61891225],\n",
              "       [0.68272306],\n",
              "       [0.69925347],\n",
              "       [0.67872381],\n",
              "       [0.67667976],\n",
              "       [0.62922156],\n",
              "       [0.60700329],\n",
              "       [0.62577329],\n",
              "       [0.62495555],\n",
              "       [0.77568439],\n",
              "       [0.80127988],\n",
              "       [0.78652691],\n",
              "       [0.82278703],\n",
              "       [0.78448274],\n",
              "       [0.7664415 ],\n",
              "       [0.74031279],\n",
              "       [0.76217577],\n",
              "       [0.76057586],\n",
              "       [0.78670457],\n",
              "       [0.80821196],\n",
              "       [0.80430153],\n",
              "       [0.75510129],\n",
              "       [0.76661942],\n",
              "       [0.79754708],\n",
              "       [0.75648777],\n",
              "       [0.77728404],\n",
              "       [0.75257733],\n",
              "       [0.73107004],\n",
              "       [0.75382168],\n",
              "       [0.78439404],\n",
              "       [0.85330623],\n",
              "       [0.77177394],\n",
              "       [0.80625675],\n",
              "       [0.82257384],\n",
              "       [0.86829027],\n",
              "       [0.89459663],\n",
              "       [0.91912543],\n",
              "       [0.8837541 ],\n",
              "       [0.89397445],\n",
              "       [0.85104887],\n",
              "       [0.87362244],\n",
              "       [0.90046229],\n",
              "       [0.89601864],\n",
              "       [0.87415566],\n",
              "       [0.91841455],\n",
              "       [0.92570222],\n",
              "       [0.90490595],\n",
              "       [0.91592612],\n",
              "       [0.92623544],\n",
              "       [0.81176683],\n",
              "       [0.79914675],\n",
              "       [0.78297204],\n",
              "       [0.78553153],\n",
              "       [0.75933176],\n",
              "       [0.78155003],\n",
              "       [0.84180599],\n",
              "       [0.8075898 ],\n",
              "       [0.85691426],\n",
              "       [0.83434069],\n",
              "       [0.87824402],\n",
              "       [0.85709217],\n",
              "       [0.91130481],\n",
              "       [0.93832205],\n",
              "       [0.94436562],\n",
              "       [0.98542495],\n",
              "       [0.9585851 ],\n",
              "       [0.94223249],\n",
              "       [0.94756493],\n",
              "       [0.96036267],\n",
              "       [0.94347683],\n",
              "       [0.92196942],\n",
              "       [0.88002132],\n",
              "       [0.9321011 ],\n",
              "       [0.76519742],\n",
              "       [0.67099188],\n",
              "       [0.66317102],\n",
              "       [0.6708141 ],\n",
              "       [0.70298613],\n",
              "       [0.68645571],\n",
              "       [0.76146464],\n",
              "       [0.75311054],\n",
              "       [0.77319595],\n",
              "       [0.80447919],\n",
              "       [0.81123363],\n",
              "       [0.82900825],\n",
              "       [0.79648066],\n",
              "       [0.82900825],\n",
              "       [0.869712  ],\n",
              "       [0.88730897],\n",
              "       [0.89299699],\n",
              "       [0.90828316],\n",
              "       [0.86704592],\n",
              "       [0.91041602],\n",
              "       [0.93103465],\n",
              "       [0.93885526],\n",
              "       [0.9038395 ],\n",
              "       [0.90490595],\n",
              "       [0.92899048],\n",
              "       [0.88304297],\n",
              "       [0.82829737],\n",
              "       [0.79228598],\n",
              "       [0.77586203],\n",
              "       [0.8208318 ],\n",
              "       [0.88659811],\n",
              "       [0.86988993],\n",
              "       [0.83718468],\n",
              "       [0.82740859],\n",
              "       [0.85007112],\n",
              "       [0.85407052],\n",
              "       [0.82118736],\n",
              "       [0.83789556],\n",
              "       [0.91148247],\n",
              "       [0.95289737],\n",
              "       [0.96071823],\n",
              "       [0.98489173],\n",
              "       [1.        ],\n",
              "       [0.99733391],\n",
              "       [0.97991486],\n",
              "       [0.95911832]])"
            ]
          },
          "metadata": {},
          "execution_count": 19
        }
      ]
    },
    {
      "cell_type": "code",
      "source": [
        "x_train=[]\n",
        "y_train=[]\n",
        "\n",
        "for i in range(60,250):\n",
        "  x_train.append(training_set_scaled[i-60:i,0])\n",
        "  y_train.append(training_set_scaled[i,0])\n",
        "\n",
        "x_train,y_train=np.array(x_train),np.array(y_train)"
      ],
      "metadata": {
        "id": "4d-3jhEFL_p1"
      },
      "execution_count": null,
      "outputs": []
    },
    {
      "cell_type": "code",
      "source": [
        "x_train"
      ],
      "metadata": {
        "colab": {
          "base_uri": "https://localhost:8080/"
        },
        "id": "pONms038OSlz",
        "outputId": "b141056a-6649-4bda-99de-937336295f57"
      },
      "execution_count": null,
      "outputs": [
        {
          "output_type": "execute_result",
          "data": {
            "text/plain": [
              "array([[0.05527908, 0.07625314, 0.02399572, ..., 0.3306079 , 0.28937079,\n",
              "        0.28439391],\n",
              "       [0.07625314, 0.02399572, 0.01137576, ..., 0.28937079, 0.28439391,\n",
              "        0.26164242],\n",
              "       [0.02399572, 0.01137576, 0.04399217, ..., 0.28439391, 0.26164242,\n",
              "        0.26644151],\n",
              "       ...,\n",
              "       [0.8075898 , 0.85691426, 0.83434069, ..., 0.96071823, 0.98489173,\n",
              "        1.        ],\n",
              "       [0.85691426, 0.83434069, 0.87824402, ..., 0.98489173, 1.        ,\n",
              "        0.99733391],\n",
              "       [0.83434069, 0.87824402, 0.85709217, ..., 1.        , 0.99733391,\n",
              "        0.97991486]])"
            ]
          },
          "metadata": {},
          "execution_count": 21
        }
      ]
    },
    {
      "cell_type": "code",
      "source": [
        "y_train"
      ],
      "metadata": {
        "colab": {
          "base_uri": "https://localhost:8080/"
        },
        "id": "CSAufg-QOWCv",
        "outputId": "b0a679ef-4cf3-4cab-fcac-e908135ee47a"
      },
      "execution_count": null,
      "outputs": [
        {
          "output_type": "execute_result",
          "data": {
            "text/plain": [
              "array([0.26164242, 0.26644151, 0.28350513, 0.32207602, 0.34482765,\n",
              "       0.33860643, 0.36740135, 0.35904726, 0.36740135, 0.35104873,\n",
              "       0.37273379, 0.33256311, 0.36046926, 0.31096688, 0.31869894,\n",
              "       0.34429429, 0.34358343, 0.35353718, 0.33487378, 0.32900824,\n",
              "       0.37468901, 0.37326701, 0.37220058, 0.34660508, 0.34553865,\n",
              "       0.3306079 , 0.33905081, 0.39210807, 0.38801998, 0.51795241,\n",
              "       0.53821546, 0.52915037, 0.53519381, 0.59473875, 0.61926769,\n",
              "       0.66619266, 0.65392827, 0.67916819, 0.62495555, 0.68414507,\n",
              "       0.66379318, 0.70334169, 0.65730536, 0.65375048, 0.67134732,\n",
              "       0.67348033, 0.70885177, 0.72618201, 0.63748669, 0.63704231,\n",
              "       0.6518841 , 0.69196595, 0.65908292, 0.66050479, 0.71062921,\n",
              "       0.65437267, 0.64904023, 0.60327064, 0.62779956, 0.61759696,\n",
              "       0.55314607, 0.55527908, 0.59313896, 0.61109136, 0.59722719,\n",
              "       0.59260576, 0.60291506, 0.60735871, 0.57500892, 0.53394959,\n",
              "       0.57909714, 0.61891225, 0.68272306, 0.69925347, 0.67872381,\n",
              "       0.67667976, 0.62922156, 0.60700329, 0.62577329, 0.62495555,\n",
              "       0.77568439, 0.80127988, 0.78652691, 0.82278703, 0.78448274,\n",
              "       0.7664415 , 0.74031279, 0.76217577, 0.76057586, 0.78670457,\n",
              "       0.80821196, 0.80430153, 0.75510129, 0.76661942, 0.79754708,\n",
              "       0.75648777, 0.77728404, 0.75257733, 0.73107004, 0.75382168,\n",
              "       0.78439404, 0.85330623, 0.77177394, 0.80625675, 0.82257384,\n",
              "       0.86829027, 0.89459663, 0.91912543, 0.8837541 , 0.89397445,\n",
              "       0.85104887, 0.87362244, 0.90046229, 0.89601864, 0.87415566,\n",
              "       0.91841455, 0.92570222, 0.90490595, 0.91592612, 0.92623544,\n",
              "       0.81176683, 0.79914675, 0.78297204, 0.78553153, 0.75933176,\n",
              "       0.78155003, 0.84180599, 0.8075898 , 0.85691426, 0.83434069,\n",
              "       0.87824402, 0.85709217, 0.91130481, 0.93832205, 0.94436562,\n",
              "       0.98542495, 0.9585851 , 0.94223249, 0.94756493, 0.96036267,\n",
              "       0.94347683, 0.92196942, 0.88002132, 0.9321011 , 0.76519742,\n",
              "       0.67099188, 0.66317102, 0.6708141 , 0.70298613, 0.68645571,\n",
              "       0.76146464, 0.75311054, 0.77319595, 0.80447919, 0.81123363,\n",
              "       0.82900825, 0.79648066, 0.82900825, 0.869712  , 0.88730897,\n",
              "       0.89299699, 0.90828316, 0.86704592, 0.91041602, 0.93103465,\n",
              "       0.93885526, 0.9038395 , 0.90490595, 0.92899048, 0.88304297,\n",
              "       0.82829737, 0.79228598, 0.77586203, 0.8208318 , 0.88659811,\n",
              "       0.86988993, 0.83718468, 0.82740859, 0.85007112, 0.85407052,\n",
              "       0.82118736, 0.83789556, 0.91148247, 0.95289737, 0.96071823,\n",
              "       0.98489173, 1.        , 0.99733391, 0.97991486, 0.95911832])"
            ]
          },
          "metadata": {},
          "execution_count": 22
        }
      ]
    },
    {
      "cell_type": "code",
      "source": [
        "x_train.shape"
      ],
      "metadata": {
        "colab": {
          "base_uri": "https://localhost:8080/"
        },
        "id": "eXt8_c0iOaql",
        "outputId": "5d220bf3-207a-4ee9-8972-2e36653b7afd"
      },
      "execution_count": null,
      "outputs": [
        {
          "output_type": "execute_result",
          "data": {
            "text/plain": [
              "(190, 60)"
            ]
          },
          "metadata": {},
          "execution_count": 23
        }
      ]
    },
    {
      "cell_type": "code",
      "source": [
        "x_train=x_train.reshape(190,60,1)\n"
      ],
      "metadata": {
        "id": "IenazabeOgjo"
      },
      "execution_count": null,
      "outputs": []
    },
    {
      "cell_type": "code",
      "source": [
        "x_train.shape"
      ],
      "metadata": {
        "colab": {
          "base_uri": "https://localhost:8080/"
        },
        "id": "68Gm06L-OtVv",
        "outputId": "4f34c730-7902-4763-f819-0df56304b19c"
      },
      "execution_count": null,
      "outputs": [
        {
          "output_type": "execute_result",
          "data": {
            "text/plain": [
              "(190, 60, 1)"
            ]
          },
          "metadata": {},
          "execution_count": 25
        }
      ]
    },
    {
      "cell_type": "code",
      "source": [
        "model=tf.keras.models.Sequential()"
      ],
      "metadata": {
        "id": "WuZh2MCoO52A"
      },
      "execution_count": null,
      "outputs": []
    },
    {
      "cell_type": "code",
      "source": [
        "#fist\n",
        "model.add(tf.keras.layers.LSTM(units=60,activation='relu',return_sequences=True,input_shape=(60,1)))\n",
        "model.add(tf.keras.layers.Dropout(0.2))\n",
        "#second\n",
        "model.add(tf.keras.layers.LSTM(units=60,activation='relu',return_sequences=True))\n",
        "model.add(tf.keras.layers.Dropout(0.2))\n",
        "#thrid\n",
        "model.add(tf.keras.layers.LSTM(units=80,activation='relu',return_sequences=True))\n",
        "model.add(tf.keras.layers.Dropout(0.2))\n",
        "#fourth\n",
        "model.add(tf.keras.layers.LSTM(units=120,activation='relu',))\n",
        "model.add(tf.keras.layers.Dropout(0.2))\n"
      ],
      "metadata": {
        "id": "Az6rE0qvPQW3"
      },
      "execution_count": null,
      "outputs": []
    },
    {
      "cell_type": "code",
      "source": [
        "model.add(tf.keras.layers.Dense(units=1))\n"
      ],
      "metadata": {
        "id": "v0B0mLwfRbU6"
      },
      "execution_count": null,
      "outputs": []
    },
    {
      "cell_type": "code",
      "source": [
        "model.summary()"
      ],
      "metadata": {
        "colab": {
          "base_uri": "https://localhost:8080/"
        },
        "id": "0ZMsOIccRw7Q",
        "outputId": "56726e52-759b-46e1-8600-c05919513fd3"
      },
      "execution_count": null,
      "outputs": [
        {
          "output_type": "stream",
          "name": "stdout",
          "text": [
            "Model: \"sequential\"\n",
            "_________________________________________________________________\n",
            " Layer (type)                Output Shape              Param #   \n",
            "=================================================================\n",
            " lstm (LSTM)                 (None, 60, 60)            14880     \n",
            "                                                                 \n",
            " dropout (Dropout)           (None, 60, 60)            0         \n",
            "                                                                 \n",
            " lstm_1 (LSTM)               (None, 60, 60)            29040     \n",
            "                                                                 \n",
            " dropout_1 (Dropout)         (None, 60, 60)            0         \n",
            "                                                                 \n",
            " lstm_2 (LSTM)               (None, 60, 80)            45120     \n",
            "                                                                 \n",
            " dropout_2 (Dropout)         (None, 60, 80)            0         \n",
            "                                                                 \n",
            " lstm_3 (LSTM)               (None, 120)               96480     \n",
            "                                                                 \n",
            " dropout_3 (Dropout)         (None, 120)               0         \n",
            "                                                                 \n",
            " dense (Dense)               (None, 1)                 121       \n",
            "                                                                 \n",
            "=================================================================\n",
            "Total params: 185641 (725.16 KB)\n",
            "Trainable params: 185641 (725.16 KB)\n",
            "Non-trainable params: 0 (0.00 Byte)\n",
            "_________________________________________________________________\n"
          ]
        }
      ]
    },
    {
      "cell_type": "code",
      "source": [
        "model.compile(optimizer='adam',loss='mean_squared_error')"
      ],
      "metadata": {
        "id": "2Q8cz6QeR5BS"
      },
      "execution_count": null,
      "outputs": []
    },
    {
      "cell_type": "code",
      "source": [
        "model.fit(x_train,y_train,batch_size=32,epochs=100)"
      ],
      "metadata": {
        "colab": {
          "base_uri": "https://localhost:8080/"
        },
        "id": "8CuOkg2ASYtQ",
        "outputId": "2934e961-2375-4dbe-bcba-718f7af8b711"
      },
      "execution_count": null,
      "outputs": [
        {
          "output_type": "stream",
          "name": "stdout",
          "text": [
            "Epoch 1/100\n",
            "6/6 [==============================] - 6s 154ms/step - loss: 0.4865\n",
            "Epoch 2/100\n",
            "6/6 [==============================] - 1s 233ms/step - loss: 0.1985\n",
            "Epoch 3/100\n",
            "6/6 [==============================] - 2s 257ms/step - loss: 0.0714\n",
            "Epoch 4/100\n",
            "6/6 [==============================] - 1s 219ms/step - loss: 0.0715\n",
            "Epoch 5/100\n",
            "6/6 [==============================] - 1s 151ms/step - loss: 0.0250\n",
            "Epoch 6/100\n",
            "6/6 [==============================] - 1s 150ms/step - loss: 0.0279\n",
            "Epoch 7/100\n",
            "6/6 [==============================] - 1s 153ms/step - loss: 0.0176\n",
            "Epoch 8/100\n",
            "6/6 [==============================] - 1s 146ms/step - loss: 0.0158\n",
            "Epoch 9/100\n",
            "6/6 [==============================] - 1s 156ms/step - loss: 0.0152\n",
            "Epoch 10/100\n",
            "6/6 [==============================] - 1s 156ms/step - loss: 0.0138\n",
            "Epoch 11/100\n",
            "6/6 [==============================] - 1s 163ms/step - loss: 0.0142\n",
            "Epoch 12/100\n",
            "6/6 [==============================] - 1s 161ms/step - loss: 0.0122\n",
            "Epoch 13/100\n",
            "6/6 [==============================] - 1s 160ms/step - loss: 0.0123\n",
            "Epoch 14/100\n",
            "6/6 [==============================] - 1s 159ms/step - loss: 0.0122\n",
            "Epoch 15/100\n",
            "6/6 [==============================] - 1s 249ms/step - loss: 0.0140\n",
            "Epoch 16/100\n",
            "6/6 [==============================] - 2s 277ms/step - loss: 0.0100\n",
            "Epoch 17/100\n",
            "6/6 [==============================] - 1s 228ms/step - loss: 0.0122\n",
            "Epoch 18/100\n",
            "6/6 [==============================] - 1s 161ms/step - loss: 0.0122\n",
            "Epoch 19/100\n",
            "6/6 [==============================] - 1s 160ms/step - loss: 0.0097\n",
            "Epoch 20/100\n",
            "6/6 [==============================] - 1s 163ms/step - loss: 0.0119\n",
            "Epoch 21/100\n",
            "6/6 [==============================] - 1s 163ms/step - loss: 0.0106\n",
            "Epoch 22/100\n",
            "6/6 [==============================] - 1s 163ms/step - loss: 0.0106\n",
            "Epoch 23/100\n",
            "6/6 [==============================] - 1s 166ms/step - loss: 0.0100\n",
            "Epoch 24/100\n",
            "6/6 [==============================] - 1s 163ms/step - loss: 0.0094\n",
            "Epoch 25/100\n",
            "6/6 [==============================] - 1s 163ms/step - loss: 0.0099\n",
            "Epoch 26/100\n",
            "6/6 [==============================] - 1s 164ms/step - loss: 0.0083\n",
            "Epoch 27/100\n",
            "6/6 [==============================] - 1s 199ms/step - loss: 0.0124\n",
            "Epoch 28/100\n",
            "6/6 [==============================] - 2s 276ms/step - loss: 0.0096\n",
            "Epoch 29/100\n",
            "6/6 [==============================] - 2s 274ms/step - loss: 0.0125\n",
            "Epoch 30/100\n",
            "6/6 [==============================] - 1s 165ms/step - loss: 0.0098\n",
            "Epoch 31/100\n",
            "6/6 [==============================] - 1s 163ms/step - loss: 0.0106\n",
            "Epoch 32/100\n",
            "6/6 [==============================] - 1s 165ms/step - loss: 0.0106\n",
            "Epoch 33/100\n",
            "6/6 [==============================] - 1s 165ms/step - loss: 0.0097\n",
            "Epoch 34/100\n",
            "6/6 [==============================] - 1s 164ms/step - loss: 0.0093\n",
            "Epoch 35/100\n",
            "6/6 [==============================] - 1s 206ms/step - loss: 0.0094\n",
            "Epoch 36/100\n",
            "6/6 [==============================] - 1s 196ms/step - loss: 0.0091\n",
            "Epoch 37/100\n",
            "6/6 [==============================] - 1s 162ms/step - loss: 0.0108\n",
            "Epoch 38/100\n",
            "6/6 [==============================] - 1s 162ms/step - loss: 0.0111\n",
            "Epoch 39/100\n",
            "6/6 [==============================] - 1s 187ms/step - loss: 0.0126\n",
            "Epoch 40/100\n",
            "6/6 [==============================] - 2s 280ms/step - loss: 0.0092\n",
            "Epoch 41/100\n",
            "6/6 [==============================] - 2s 278ms/step - loss: 0.0113\n",
            "Epoch 42/100\n",
            "6/6 [==============================] - 1s 162ms/step - loss: 0.0109\n",
            "Epoch 43/100\n",
            "6/6 [==============================] - 1s 161ms/step - loss: 0.0108\n",
            "Epoch 44/100\n",
            "6/6 [==============================] - 1s 161ms/step - loss: 0.0109\n",
            "Epoch 45/100\n",
            "6/6 [==============================] - 1s 165ms/step - loss: 0.0107\n",
            "Epoch 46/100\n",
            "6/6 [==============================] - 1s 165ms/step - loss: 0.0083\n",
            "Epoch 47/100\n",
            "6/6 [==============================] - 1s 163ms/step - loss: 0.0089\n",
            "Epoch 48/100\n",
            "6/6 [==============================] - 1s 162ms/step - loss: 0.0105\n",
            "Epoch 49/100\n",
            "6/6 [==============================] - 1s 164ms/step - loss: 0.0089\n",
            "Epoch 50/100\n",
            "6/6 [==============================] - 1s 166ms/step - loss: 0.0106\n",
            "Epoch 51/100\n",
            "6/6 [==============================] - 1s 164ms/step - loss: 0.0108\n",
            "Epoch 52/100\n",
            "6/6 [==============================] - 1s 267ms/step - loss: 0.0106\n",
            "Epoch 53/100\n",
            "6/6 [==============================] - 2s 280ms/step - loss: 0.0113\n",
            "Epoch 54/100\n",
            "6/6 [==============================] - 1s 212ms/step - loss: 0.0092\n",
            "Epoch 55/100\n",
            "6/6 [==============================] - 1s 164ms/step - loss: 0.0102\n",
            "Epoch 56/100\n",
            "6/6 [==============================] - 1s 165ms/step - loss: 0.0108\n",
            "Epoch 57/100\n",
            "6/6 [==============================] - 1s 165ms/step - loss: 0.0092\n",
            "Epoch 58/100\n",
            "6/6 [==============================] - 1s 166ms/step - loss: 0.0093\n",
            "Epoch 59/100\n",
            "6/6 [==============================] - 1s 167ms/step - loss: 0.0105\n",
            "Epoch 60/100\n",
            "6/6 [==============================] - 1s 164ms/step - loss: 0.0101\n",
            "Epoch 61/100\n",
            "6/6 [==============================] - 1s 164ms/step - loss: 0.0099\n",
            "Epoch 62/100\n",
            "6/6 [==============================] - 1s 162ms/step - loss: 0.0106\n",
            "Epoch 63/100\n",
            "6/6 [==============================] - 1s 164ms/step - loss: 0.0102\n",
            "Epoch 64/100\n",
            "6/6 [==============================] - 1s 197ms/step - loss: 0.0107\n",
            "Epoch 65/100\n",
            "6/6 [==============================] - 2s 282ms/step - loss: 0.0101\n",
            "Epoch 66/100\n",
            "6/6 [==============================] - 2s 274ms/step - loss: 0.0107\n",
            "Epoch 67/100\n",
            "6/6 [==============================] - 1s 163ms/step - loss: 0.0112\n",
            "Epoch 68/100\n",
            "6/6 [==============================] - 1s 163ms/step - loss: 0.0105\n",
            "Epoch 69/100\n",
            "6/6 [==============================] - 1s 162ms/step - loss: 0.0104\n",
            "Epoch 70/100\n",
            "6/6 [==============================] - 1s 162ms/step - loss: 0.0107\n",
            "Epoch 71/100\n",
            "6/6 [==============================] - 1s 162ms/step - loss: 0.0082\n",
            "Epoch 72/100\n",
            "6/6 [==============================] - 1s 160ms/step - loss: 0.0092\n",
            "Epoch 73/100\n",
            "6/6 [==============================] - 1s 162ms/step - loss: 0.0092\n",
            "Epoch 74/100\n",
            "6/6 [==============================] - 1s 165ms/step - loss: 0.0097\n",
            "Epoch 75/100\n",
            "6/6 [==============================] - 1s 165ms/step - loss: 0.0088\n",
            "Epoch 76/100\n",
            "6/6 [==============================] - 1s 162ms/step - loss: 0.0086\n",
            "Epoch 77/100\n",
            "6/6 [==============================] - 1s 265ms/step - loss: 0.0100\n",
            "Epoch 78/100\n",
            "6/6 [==============================] - 2s 282ms/step - loss: 0.0084\n",
            "Epoch 79/100\n",
            "6/6 [==============================] - 1s 215ms/step - loss: 0.0087\n",
            "Epoch 80/100\n",
            "6/6 [==============================] - 1s 170ms/step - loss: 0.0097\n",
            "Epoch 81/100\n",
            "6/6 [==============================] - 1s 163ms/step - loss: 0.0094\n",
            "Epoch 82/100\n",
            "6/6 [==============================] - 1s 162ms/step - loss: 0.0081\n",
            "Epoch 83/100\n",
            "6/6 [==============================] - 1s 162ms/step - loss: 0.0081\n",
            "Epoch 84/100\n",
            "6/6 [==============================] - 1s 163ms/step - loss: 0.0095\n",
            "Epoch 85/100\n",
            "6/6 [==============================] - 1s 160ms/step - loss: 0.0095\n",
            "Epoch 86/100\n",
            "6/6 [==============================] - 1s 162ms/step - loss: 0.0102\n",
            "Epoch 87/100\n",
            "6/6 [==============================] - 1s 163ms/step - loss: 0.0097\n",
            "Epoch 88/100\n",
            "6/6 [==============================] - 1s 163ms/step - loss: 0.0101\n",
            "Epoch 89/100\n",
            "6/6 [==============================] - 1s 199ms/step - loss: 0.0093\n",
            "Epoch 90/100\n",
            "6/6 [==============================] - 2s 277ms/step - loss: 0.0107\n",
            "Epoch 91/100\n",
            "6/6 [==============================] - 2s 275ms/step - loss: 0.0105\n",
            "Epoch 92/100\n",
            "6/6 [==============================] - 1s 163ms/step - loss: 0.0095\n",
            "Epoch 93/100\n",
            "6/6 [==============================] - 1s 164ms/step - loss: 0.0088\n",
            "Epoch 94/100\n",
            "6/6 [==============================] - 1s 163ms/step - loss: 0.0079\n",
            "Epoch 95/100\n",
            "6/6 [==============================] - 1s 161ms/step - loss: 0.0097\n",
            "Epoch 96/100\n",
            "6/6 [==============================] - 1s 159ms/step - loss: 0.0095\n",
            "Epoch 97/100\n",
            "6/6 [==============================] - 1s 160ms/step - loss: 0.0104\n",
            "Epoch 98/100\n",
            "6/6 [==============================] - 1s 162ms/step - loss: 0.0095\n",
            "Epoch 99/100\n",
            "6/6 [==============================] - 1s 163ms/step - loss: 0.0085\n",
            "Epoch 100/100\n",
            "6/6 [==============================] - 1s 162ms/step - loss: 0.0082\n"
          ]
        },
        {
          "output_type": "execute_result",
          "data": {
            "text/plain": [
              "<keras.src.callbacks.History at 0x7a790cf1bc70>"
            ]
          },
          "metadata": {},
          "execution_count": 31
        }
      ]
    },
    {
      "cell_type": "code",
      "source": [
        "test_data=pd.read_csv('/content/test_set.csv')"
      ],
      "metadata": {
        "id": "QBbknizcS1Z6"
      },
      "execution_count": null,
      "outputs": []
    },
    {
      "cell_type": "code",
      "source": [
        "test_data.shape\n"
      ],
      "metadata": {
        "colab": {
          "base_uri": "https://localhost:8080/"
        },
        "id": "8Pct5SwuTw0z",
        "outputId": "a33cb3f2-e243-461b-f439-a2120e9c6937"
      },
      "execution_count": null,
      "outputs": [
        {
          "output_type": "execute_result",
          "data": {
            "text/plain": [
              "(250, 7)"
            ]
          },
          "metadata": {},
          "execution_count": 34
        }
      ]
    },
    {
      "cell_type": "code",
      "source": [
        "test_data.info()"
      ],
      "metadata": {
        "colab": {
          "base_uri": "https://localhost:8080/"
        },
        "id": "du3-LIZWT2gd",
        "outputId": "3145d993-7e4c-4f51-b583-7db012b16ff1"
      },
      "execution_count": null,
      "outputs": [
        {
          "output_type": "stream",
          "name": "stdout",
          "text": [
            "<class 'pandas.core.frame.DataFrame'>\n",
            "RangeIndex: 250 entries, 0 to 249\n",
            "Data columns (total 7 columns):\n",
            " #   Column     Non-Null Count  Dtype  \n",
            "---  ------     --------------  -----  \n",
            " 0   Date       250 non-null    object \n",
            " 1   Open       250 non-null    float64\n",
            " 2   High       250 non-null    float64\n",
            " 3   Low        250 non-null    float64\n",
            " 4   Close      250 non-null    float64\n",
            " 5   Adj Close  250 non-null    float64\n",
            " 6   Volume     250 non-null    int64  \n",
            "dtypes: float64(5), int64(1), object(1)\n",
            "memory usage: 13.8+ KB\n"
          ]
        }
      ]
    },
    {
      "cell_type": "code",
      "source": [
        "real_stock_price=test_data.iloc[:,1:2].values"
      ],
      "metadata": {
        "id": "TosEXHTuUF9p"
      },
      "execution_count": null,
      "outputs": []
    },
    {
      "cell_type": "code",
      "source": [
        "real_stock_price.shape"
      ],
      "metadata": {
        "colab": {
          "base_uri": "https://localhost:8080/"
        },
        "id": "r7KY_kBMUrcF",
        "outputId": "dee40473-0e20-4c47-cb99-d6a99a5868f1"
      },
      "execution_count": null,
      "outputs": [
        {
          "output_type": "execute_result",
          "data": {
            "text/plain": [
              "(250, 1)"
            ]
          },
          "metadata": {},
          "execution_count": 37
        }
      ]
    },
    {
      "cell_type": "code",
      "source": [
        "dataset_total=pd.concat([training_data['Open'],test_data['Open']])\n",
        "inputs=dataset_total[len(dataset_total)-len(test_data)-60:].values\n",
        "inputs=inputs.reshape(-1,1)\n",
        "inputs=sc.transform(inputs)\n",
        "#create a test set\n",
        "x_test=[]\n",
        "for i in range(60,80):\n",
        "   x_test.append(inputs[i-60:i, 0])\n",
        "\n",
        "x_test=np.array(x_test)\n",
        "x_test=np.reshape(x_test,(x_test.shape[0],x_test.shape[1],1))\n",
        "predicted_stock_price=model.predict(x_test)\n",
        "predicted_stock_price=sc.inverse_transform(predicted_stock_price)"
      ],
      "metadata": {
        "colab": {
          "base_uri": "https://localhost:8080/"
        },
        "id": "S5_jmx5KU3An",
        "outputId": "43f36cf2-729a-4bcc-ee16-fd8dc2c2be81"
      },
      "execution_count": null,
      "outputs": [
        {
          "output_type": "stream",
          "name": "stdout",
          "text": [
            "1/1 [==============================] - 1s 651ms/step\n"
          ]
        }
      ]
    },
    {
      "cell_type": "code",
      "source": [
        "#this for predicated the stocks [by insect the values]\n",
        "print(predicted_stock_price[5]),print(real_stock_price[5])"
      ],
      "metadata": {
        "id": "cev6nhu5XAF4",
        "colab": {
          "base_uri": "https://localhost:8080/"
        },
        "outputId": "8b22e1c5-64a7-4f45-c8d1-a5bb3542026d"
      },
      "execution_count": null,
      "outputs": [
        {
          "output_type": "stream",
          "name": "stdout",
          "text": [
            "[135.60274]\n",
            "[86.720001]\n"
          ]
        },
        {
          "output_type": "execute_result",
          "data": {
            "text/plain": [
              "(None, None)"
            ]
          },
          "metadata": {},
          "execution_count": 40
        }
      ]
    },
    {
      "cell_type": "code",
      "source": [
        "#visualization\n",
        "plt.plot(real_stock_price,color='red',label='Real Google stock price')\n",
        "plt.plot(predicted_stock_price,color='green',label='predicted google stock price')\n",
        "plt.title('Google stock price prediction')\n",
        "plt.xlabel('Time')\n",
        "plt.ylabel('Google stock price')\n",
        "plt.legend()\n",
        "plt.show()"
      ],
      "metadata": {
        "colab": {
          "base_uri": "https://localhost:8080/",
          "height": 472
        },
        "id": "X10MR9Akgb3h",
        "outputId": "ee45270c-d416-4e9d-8684-c5593b8ce0ad"
      },
      "execution_count": null,
      "outputs": [
        {
          "output_type": "display_data",
          "data": {
            "text/plain": [
              "<Figure size 640x480 with 1 Axes>"
            ],
            "image/png": "[encoded data removed]"
          },
          "metadata": {}
        }
      ]
    },
    {
      "cell_type": "code",
      "source": [],
      "metadata": {
        "id": "CLP-Wod-h-kh"
      },
      "execution_count": null,
      "outputs": []
    }
  ]
}